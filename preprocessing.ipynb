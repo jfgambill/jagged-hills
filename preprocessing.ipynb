{
 "cells": [
  {
   "cell_type": "code",
   "execution_count": 261,
   "metadata": {
    "collapsed": false
   },
   "outputs": [
    {
     "name": "stdout",
     "output_type": "stream",
     "text": [
      "Populating the interactive namespace from numpy and matplotlib\n"
     ]
    }
   ],
   "source": [
    "import numpy as np, pandas as pd\n",
    "import matplotlib.pyplot as plt\n",
    "from sqlalchemy import create_engine\n",
    "%pylab inline\n",
    "\n",
    "engine = create_engine('sqlite:///jagged.sqlite')\n",
    "\n"
   ]
  },
  {
   "cell_type": "code",
   "execution_count": 262,
   "metadata": {
    "collapsed": false
   },
   "outputs": [
    {
     "data": {
      "text/plain": [
       "(        Date  BullBearSpread\n",
       " 0 1990-01-05            0.10\n",
       " 1 1990-01-12            0.28\n",
       " 2 1990-01-19            0.11\n",
       " 3 1990-01-26           -0.14\n",
       " 4 1990-02-02           -0.33,            Date  BullBearSpread\n",
       " 1396 2016-10-13       -0.082547\n",
       " 1397 2016-10-20       -0.140756\n",
       " 1398 2016-10-27       -0.093137\n",
       " 1399 2016-11-03       -0.106818\n",
       " 1400 2016-11-10        0.095556)"
      ]
     },
     "execution_count": 262,
     "metadata": {},
     "output_type": "execute_result"
    }
   ],
   "source": [
    "sentiment = pd.read_sql_query(\"SELECT * FROM sentiment WHERE Date > '1990-01-02'\", engine, parse_dates={'Date':'%Y-%m-%d'})\n",
    "sentiment['BullBearSpread'] =  sentiment['Bullish'] - sentiment['Bearish']\n",
    "sentiment = sentiment[['Date','BullBearSpread']]\n",
    "sentiment.head(), sentiment.tail()"
   ]
  },
  {
   "cell_type": "code",
   "execution_count": 263,
   "metadata": {
    "collapsed": false
   },
   "outputs": [
    {
     "data": {
      "text/html": [
       "<div>\n",
       "<table border=\"1\" class=\"dataframe\">\n",
       "  <thead>\n",
       "    <tr style=\"text-align: right;\">\n",
       "      <th></th>\n",
       "      <th>BullBearSpread</th>\n",
       "    </tr>\n",
       "    <tr>\n",
       "      <th>Date</th>\n",
       "      <th></th>\n",
       "    </tr>\n",
       "  </thead>\n",
       "  <tbody>\n",
       "    <tr>\n",
       "      <th>1990-01-05</th>\n",
       "      <td>0.10</td>\n",
       "    </tr>\n",
       "    <tr>\n",
       "      <th>1990-01-12</th>\n",
       "      <td>0.28</td>\n",
       "    </tr>\n",
       "    <tr>\n",
       "      <th>1990-01-19</th>\n",
       "      <td>0.11</td>\n",
       "    </tr>\n",
       "    <tr>\n",
       "      <th>1990-01-26</th>\n",
       "      <td>-0.14</td>\n",
       "    </tr>\n",
       "    <tr>\n",
       "      <th>1990-02-02</th>\n",
       "      <td>-0.33</td>\n",
       "    </tr>\n",
       "  </tbody>\n",
       "</table>\n",
       "</div>"
      ],
      "text/plain": [
       "            BullBearSpread\n",
       "Date                      \n",
       "1990-01-05            0.10\n",
       "1990-01-12            0.28\n",
       "1990-01-19            0.11\n",
       "1990-01-26           -0.14\n",
       "1990-02-02           -0.33"
      ]
     },
     "execution_count": 263,
     "metadata": {},
     "output_type": "execute_result"
    }
   ],
   "source": [
    "#sentiment['BullBearSpread'] = pd.qcut(sentiment['BullBearSpread'],4,labels=False)\n",
    "sentiment.set_index('Date',inplace=True)\n",
    "sentiment.head()"
   ]
  },
  {
   "cell_type": "code",
   "execution_count": 264,
   "metadata": {
    "collapsed": false
   },
   "outputs": [
    {
     "data": {
      "text/plain": [
       "'# Get price and volume data for DJIA stocks\\n\\ntickers = [\\'AAPL\\', \\'AXP\\', \\'BA\\', \\'CAT\\', \\'CSCO\\', \\'CVX\\', \\'DD\\', \\'DIS\\', \\'GE\\', \\'GS\\',\\n           \\'HD\\', \\'IBM\\', \\'INTC\\', \\'JNJ\\', \\'JPM\\', \\'KO\\', \\'MCD\\', \\'MMM\\', \\'MRK\\', \\'MSFT\\', \\n           \\'NKE\\', \\'PFE\\', \\'PG\\', \\'TRV\\', \\'UNH\\', \\'UTX\\', \\'V\\', \\'VZ\\', \\'WMT\\', \\'XOM\\']\\n\\nfor index, ticker in enumerate(tickers):    \\n    if index==0: \\n        query = pd.read_sql_query(\"SELECT date as Date, adj_close as {}, adj_volume as {}Vol                               FROM ohlc                               WHERE ticker == \\'{}\\'                                AND date > \\'1987-06-26\\'\".format(ticker,ticker,ticker,ticker), engine, parse_dates={\\'Date\\':\\'%Y-%m-%d\\'})\\n        prices = query\\n    else:    \\n        query = pd.read_sql_query(\"SELECT date as Date, adj_close as {}, adj_volume as {}Vol                               FROM ohlc                               WHERE ticker == \\'{}\\'                                AND date > \\'1987-06-26\\'\".format(ticker,ticker,ticker,ticker), engine, parse_dates={\\'Date\\':\\'%Y-%m-%d\\'})\\n        prices = prices.merge(query, on=\\'Date\\',how=\\'outer\\')\\n    \\nprices.to_csv(\\'dow_stock_prices.csv\\')'"
      ]
     },
     "execution_count": 264,
     "metadata": {},
     "output_type": "execute_result"
    }
   ],
   "source": [
    "'''# Get price and volume data for DJIA stocks\n",
    "\n",
    "tickers = ['AAPL', 'AXP', 'BA', 'CAT', 'CSCO', 'CVX', 'DD', 'DIS', 'GE', 'GS',\n",
    "           'HD', 'IBM', 'INTC', 'JNJ', 'JPM', 'KO', 'MCD', 'MMM', 'MRK', 'MSFT', \n",
    "           'NKE', 'PFE', 'PG', 'TRV', 'UNH', 'UTX', 'V', 'VZ', 'WMT', 'XOM']\n",
    "\n",
    "for index, ticker in enumerate(tickers):    \n",
    "    if index==0: \n",
    "        query = pd.read_sql_query(\"SELECT date as Date, adj_close as {}, adj_volume as {}Vol \\\n",
    "                              FROM ohlc \\\n",
    "                              WHERE ticker == '{}'  \\\n",
    "                              AND date > '1987-06-26'\".format(ticker,ticker,ticker,ticker), engine, parse_dates={'Date':'%Y-%m-%d'})\n",
    "        prices = query\n",
    "    else:    \n",
    "        query = pd.read_sql_query(\"SELECT date as Date, adj_close as {}, adj_volume as {}Vol \\\n",
    "                              FROM ohlc \\\n",
    "                              WHERE ticker == '{}'  \\\n",
    "                              AND date > '1987-06-26'\".format(ticker,ticker,ticker,ticker), engine, parse_dates={'Date':'%Y-%m-%d'})\n",
    "        prices = prices.merge(query, on='Date',how='outer')\n",
    "    \n",
    "prices.to_csv('dow_stock_prices.csv')'''"
   ]
  },
  {
   "cell_type": "code",
   "execution_count": 265,
   "metadata": {
    "collapsed": false
   },
   "outputs": [
    {
     "data": {
      "text/plain": [
       "(        Date  SVENPY01  SVENPY02  SVENPY05  SVENPY10  SVENPY20  OneTwentyDiff  \\\n",
       " 0 1990-01-02    7.9531    7.9258    7.9952    8.0725    8.0946         0.1415   \n",
       " 1 1990-01-03    8.0011    7.9787    8.0492    8.1218    8.1338         0.1327   \n",
       " 2 1990-01-04    7.9738    7.9541    8.0295    8.1082    8.1297         0.1559   \n",
       " 3 1990-01-05    7.9583    7.9468    8.0303    8.1210    8.1548         0.1965   \n",
       " 4 1990-01-08    7.9458    7.9449    8.0423    8.1438    8.1837         0.2379   \n",
       " \n",
       "    OneTenDiff  OneFiveDiff  OneTwoDiff  \n",
       " 0      0.1194       0.0421     -0.0273  \n",
       " 1      0.1207       0.0481     -0.0224  \n",
       " 2      0.1344       0.0557     -0.0197  \n",
       " 3      0.1627       0.0720     -0.0115  \n",
       " 4      0.1980       0.0965     -0.0009  ,\n",
       "            Date  SVENPY01  SVENPY02  SVENPY05  SVENPY10  SVENPY20  \\\n",
       " 6699 2016-11-07    0.6765    0.8431    1.3402    1.8648    2.3591   \n",
       " 6700 2016-11-08    0.7195    0.8897    1.3946    1.9069    2.3892   \n",
       " 6701 2016-11-09    0.7331    0.9387    1.5510    2.1193    2.6161   \n",
       " 6702 2016-11-10    0.7550    0.9646    1.6221    2.1980    2.6770   \n",
       " 6703 2016-11-14    0.7947    1.0339    1.7224    2.2800    2.7406   \n",
       " \n",
       "       OneTwentyDiff  OneTenDiff  OneFiveDiff  OneTwoDiff  \n",
       " 6699         1.6826      1.1883       0.6637      0.1666  \n",
       " 6700         1.6697      1.1874       0.6751      0.1702  \n",
       " 6701         1.8830      1.3862       0.8179      0.2056  \n",
       " 6702         1.9220      1.4430       0.8671      0.2096  \n",
       " 6703         1.9459      1.4853       0.9277      0.2392  )"
      ]
     },
     "execution_count": 265,
     "metadata": {},
     "output_type": "execute_result"
    }
   ],
   "source": [
    "yield_curve = pd.read_sql_query(\"SELECT Date, SVENPY01, SVENPY02, SVENPY05, SVENPY10, SVENPY20, \\\n",
    "                                SVENPY20 - SVENPY01 as OneTwentyDiff, SVENPY10 - SVENPY01 as OneTenDiff, \\\n",
    "                                SVENPY05 - SVENPY01 as OneFiveDiff, SVENPY02 - SVENPY01 as OneTwoDiff \\\n",
    "                                FROM YieldCurve WHERE Date > '1990-01-02'\", engine, parse_dates={'Date':'%Y-%m-%d'})\n",
    "\n",
    "yield_curve.head(), yield_curve.tail()"
   ]
  },
  {
   "cell_type": "code",
   "execution_count": 266,
   "metadata": {
    "collapsed": false
   },
   "outputs": [
    {
     "data": {
      "text/plain": [
       "(            OneTenDiff\n",
       " Date                  \n",
       " 1990-01-02      0.1194\n",
       " 1990-01-03      0.1207\n",
       " 1990-01-04      0.1344\n",
       " 1990-01-05      0.1627\n",
       " 1990-01-08      0.1980,             OneTenDiff\n",
       " Date                  \n",
       " 2016-11-07      1.1883\n",
       " 2016-11-08      1.1874\n",
       " 2016-11-09      1.3862\n",
       " 2016-11-10      1.4430\n",
       " 2016-11-14      1.4853)"
      ]
     },
     "execution_count": 266,
     "metadata": {},
     "output_type": "execute_result"
    }
   ],
   "source": [
    "yield_curve.set_index('Date',inplace=True)\n",
    "yield_curve = yield_curve[['OneTenDiff']]\n",
    "\n",
    "#for col in list(yield_curve.columns):\n",
    "#    yield_curve[col] = pd.qcut(yield_curve[col],4,labels=False)\n",
    "    \n",
    "yield_curve.head(), yield_curve.tail()"
   ]
  },
  {
   "cell_type": "code",
   "execution_count": 267,
   "metadata": {
    "collapsed": false
   },
   "outputs": [
    {
     "name": "stdout",
     "output_type": "stream",
     "text": [
      "        Date  NewHighs\n",
      "0 2005-10-27      35.0\n",
      "1 2005-10-28      53.0\n",
      "2 2005-10-31      93.0\n",
      "3 2005-11-01      93.0\n",
      "4 2005-11-02     151.0            Date  NewHighs\n",
      "2808 2016-11-10     276.0\n",
      "2809 2016-11-11     217.0\n",
      "2810 2016-11-14     325.0\n",
      "2811 2016-11-15     157.0\n",
      "2812 2016-11-16     111.0\n",
      "        Date  NewLows\n",
      "0 2005-10-27    199.0\n",
      "1 2005-10-28    124.0\n",
      "2 2005-10-31     73.0\n",
      "3 2005-11-01     91.0\n",
      "4 2005-11-02     76.0            Date  NewLows\n",
      "2808 2016-11-10    180.0\n",
      "2809 2016-11-11    181.0\n",
      "2810 2016-11-14    313.0\n",
      "2811 2016-11-15     46.0\n",
      "2812 2016-11-16     20.0\n",
      "        Date     Adv\n",
      "0 1990-01-02  1257.0\n",
      "1 1990-01-03   887.0\n",
      "2 1990-01-04   645.0\n",
      "3 1990-01-05   591.0\n",
      "4 1990-01-08   805.0            Date     Adv\n",
      "6805 2016-11-14  1598.0\n",
      "6806 2016-11-15  2215.0\n",
      "6807 2016-11-16  1594.0\n",
      "6808 2016-11-17  1588.0\n",
      "6809 2016-11-18  1427.0\n",
      "        Date    Dec\n",
      "0 1990-01-02  412.0\n",
      "1 1990-01-03  724.0\n",
      "2 1990-01-04  924.0\n",
      "3 1990-01-05  931.0\n",
      "4 1990-01-08  717.0            Date     Dec\n",
      "6805 2016-11-14  1480.0\n",
      "6806 2016-11-15   859.0\n",
      "6807 2016-11-16  1454.0\n",
      "6808 2016-11-17  1440.0\n",
      "6809 2016-11-18  1592.0\n",
      "        Date    AdvVol\n",
      "0 1990-01-02  124086.0\n",
      "1 1990-01-03  101752.0\n",
      "2 1990-01-04   55578.0\n",
      "3 1990-01-05   45872.0\n",
      "4 1990-01-08   71311.0            Date        AdvVol\n",
      "6805 2016-11-14  3.511508e+09\n",
      "6806 2016-11-15  3.179111e+09\n",
      "6807 2016-11-16  1.398091e+09\n",
      "6808 2016-11-17  2.143293e+09\n",
      "6809 2016-11-18  1.550536e+09\n",
      "        Date    DecVol\n",
      "0 1990-01-02   24562.0\n",
      "1 1990-01-03   74079.0\n",
      "2 1990-01-04  103932.0\n",
      "3 1990-01-05  100470.0\n",
      "4 1990-01-08   50671.0            Date        DecVol\n",
      "6805 2016-11-14  1.730903e+09\n",
      "6806 2016-11-15  1.286400e+09\n",
      "6807 2016-11-16  2.335282e+09\n",
      "6808 2016-11-17  1.534547e+09\n",
      "6809 2016-11-18  1.929665e+09\n"
     ]
    }
   ],
   "source": [
    "# Get New Highs, New Lows, Advancing and Declining Volume for the NY Stock Exchange\n",
    "nh = pd.read_sql_query(\"SELECT * from ny_nh WHERE Date > '1990-01-02'\", engine, parse_dates={'Date':'%Y-%m-%d'})\n",
    "nl = pd.read_sql_query(\"SELECT * from ny_nl WHERE Date > '1990-01-02'\", engine, parse_dates={'Date':'%Y-%m-%d'})\n",
    "adv = pd.read_sql_query(\"SELECT * from ny_adv WHERE Date > '1990-01-02'\", engine, parse_dates={'Date':'%Y-%m-%d'})\n",
    "dec = pd.read_sql_query(\"SELECT * from ny_dec WHERE Date > '1990-01-02'\", engine, parse_dates={'Date':'%Y-%m-%d'})\n",
    "adv_vol = pd.read_sql_query(\"SELECT * from ny_adv_vol WHERE Date > '1990-01-02'\", engine, parse_dates={'Date':'%Y-%m-%d'})\n",
    "dec_vol = pd.read_sql_query(\"SELECT * from ny_dec_vol WHERE Date > '1990-01-02'\", engine, parse_dates={'Date':'%Y-%m-%d'})\n",
    "\n",
    "\n",
    "nh.columns = ['Date','NewHighs']\n",
    "nl.columns = ['Date','NewLows']\n",
    "adv.columns = ['Date','Adv']\n",
    "dec.columns = ['Date','Dec']\n",
    "adv_vol.columns = ['Date','AdvVol']\n",
    "dec_vol.columns = ['Date','DecVol']\n",
    "\n",
    "\n",
    "print nh.head(), nh.tail()\n",
    "print nl.head(), nl.tail()\n",
    "print adv.head(), adv.tail()\n",
    "print dec.head(), dec.tail()\n",
    "print adv_vol.head(), adv_vol.tail()\n",
    "print dec_vol.head(), dec_vol.tail()"
   ]
  },
  {
   "cell_type": "code",
   "execution_count": 268,
   "metadata": {
    "collapsed": false
   },
   "outputs": [
    {
     "name": "stdout",
     "output_type": "stream",
     "text": [
      "            Hi-Lo\n",
      "Date             \n",
      "2005-10-27    NaN\n",
      "2005-10-28    NaN\n",
      "2005-10-31    NaN\n",
      "2005-11-01    NaN\n",
      "2005-11-02    NaN              Hi-Lo\n",
      "Date              \n",
      "2016-11-10  89.320\n",
      "2016-11-11  89.260\n",
      "2016-11-14  89.620\n",
      "2016-11-15  90.865\n",
      "2016-11-16  91.390\n"
     ]
    },
    {
     "data": {
      "text/plain": [
       "<matplotlib.axes._subplots.AxesSubplot at 0x1d3c2f98>"
      ]
     },
     "execution_count": 268,
     "metadata": {},
     "output_type": "execute_result"
    },
    {
     "data": {
      "image/png": "[encoded data removed]",
      "text/plain": [
       "<matplotlib.figure.Figure at 0x1a70eba8>"
      ]
     },
     "metadata": {},
     "output_type": "display_data"
    }
   ],
   "source": [
    "nhnl = nh.merge(nl,on='Date')\n",
    "nhnl['Hi-Lo'] = nhnl['NewHighs'] - nhnl['NewLows']\n",
    "del nhnl['NewHighs']\n",
    "del nhnl['NewLows']\n",
    "\n",
    "\n",
    "nhnl['Hi-Lo'] = nhnl['Hi-Lo'].rolling(window=200,center=False).mean()\n",
    "nhnl.set_index('Date',inplace=True)\n",
    "print nhnl.head(),nhnl.tail()\n",
    "nhnl.plot()"
   ]
  },
  {
   "cell_type": "code",
   "execution_count": 269,
   "metadata": {
    "collapsed": false
   },
   "outputs": [],
   "source": [
    "#nhnl['Hi-Lo'] = pd.qcut(nhnl['Hi-Lo'],4,labels=False)\n",
    "#nhnl.tail()"
   ]
  },
  {
   "cell_type": "code",
   "execution_count": 270,
   "metadata": {
    "collapsed": false
   },
   "outputs": [
    {
     "name": "stdout",
     "output_type": "stream",
     "text": [
      "        Date    AdvVol    DecVol  Adv-DecVol\n",
      "0 1990-01-02  124086.0   24562.0     99524.0\n",
      "1 1990-01-03  101752.0   74079.0     27673.0\n",
      "2 1990-01-04   55578.0  103932.0    -48354.0\n",
      "3 1990-01-05   45872.0  100470.0    -54598.0\n",
      "4 1990-01-08   71311.0   50671.0     20640.0\n",
      "            Adv-DecVol\n",
      "Date                  \n",
      "1990-01-02         NaN\n",
      "1990-01-03         NaN\n",
      "1990-01-04         NaN\n",
      "1990-01-05         NaN\n",
      "1990-01-08         NaN               Adv-DecVol\n",
      "Date                    \n",
      "2016-11-14  2.616295e+08\n",
      "2016-11-15  2.630938e+08\n",
      "2016-11-16  2.483271e+08\n",
      "2016-11-17  2.640855e+08\n",
      "2016-11-18  2.578440e+08\n"
     ]
    },
    {
     "data": {
      "text/plain": [
       "<matplotlib.axes._subplots.AxesSubplot at 0x1d927898>"
      ]
     },
     "execution_count": 270,
     "metadata": {},
     "output_type": "execute_result"
    },
    {
     "data": {
      "image/png": "[encoded data removed]",
      "text/plain": [
       "<matplotlib.figure.Figure at 0x1d653320>"
      ]
     },
     "metadata": {},
     "output_type": "display_data"
    }
   ],
   "source": [
    "adv_dec_vol = adv_vol.merge(dec_vol,on='Date')\n",
    "adv_dec_vol['Adv-DecVol'] = adv_dec_vol['AdvVol'] - adv_dec_vol['DecVol']\n",
    "print adv_dec_vol.head()\n",
    "del adv_dec_vol['AdvVol']\n",
    "del adv_dec_vol['DecVol']\n",
    "\n",
    "adv_dec_vol['Adv-DecVol'] = adv_dec_vol['Adv-DecVol'].rolling(window=200,center=False).mean()\n",
    "adv_dec_vol.set_index('Date',inplace=True)\n",
    "print adv_dec_vol.head(), adv_dec_vol.tail()\n",
    "\n",
    "adv_dec_vol.plot()"
   ]
  },
  {
   "cell_type": "code",
   "execution_count": 271,
   "metadata": {
    "collapsed": false
   },
   "outputs": [],
   "source": [
    "#adv_dec_vol['Adv-DecVol'] = pd.qcut(adv_dec_vol['Adv-DecVol'],4,labels=False)\n",
    "#adv_dec_vol.tail()"
   ]
  },
  {
   "cell_type": "code",
   "execution_count": 272,
   "metadata": {
    "collapsed": false
   },
   "outputs": [
    {
     "name": "stdout",
     "output_type": "stream",
     "text": [
      "        Date     Adv    Dec  Adv-Dec\n",
      "0 1990-01-02  1257.0  412.0    845.0\n",
      "1 1990-01-03   887.0  724.0    163.0\n",
      "2 1990-01-04   645.0  924.0   -279.0\n",
      "3 1990-01-05   591.0  931.0   -340.0\n",
      "4 1990-01-08   805.0  717.0     88.0\n",
      "            Adv-Dec\n",
      "Date               \n",
      "1990-01-02      NaN\n",
      "1990-01-03      NaN\n",
      "1990-01-04      NaN\n",
      "1990-01-05      NaN\n",
      "1990-01-08      NaN             Adv-Dec\n",
      "Date               \n",
      "2016-11-14  219.760\n",
      "2016-11-15  222.310\n",
      "2016-11-16  218.775\n",
      "2016-11-17  227.680\n",
      "2016-11-18  236.235\n"
     ]
    },
    {
     "data": {
      "text/plain": [
       "<matplotlib.axes._subplots.AxesSubplot at 0x1c407080>"
      ]
     },
     "execution_count": 272,
     "metadata": {},
     "output_type": "execute_result"
    },
    {
     "data": {
      "image/png": "[encoded data removed]",
      "text/plain": [
       "<matplotlib.figure.Figure at 0x18f16390>"
      ]
     },
     "metadata": {},
     "output_type": "display_data"
    }
   ],
   "source": [
    "adv_dec = adv.merge(dec,on='Date')\n",
    "adv_dec['Adv-Dec'] = adv_dec['Adv'] - adv_dec['Dec']\n",
    "print adv_dec.head()\n",
    "del adv_dec['Adv']\n",
    "del adv_dec['Dec']\n",
    "\n",
    "adv_dec['Adv-Dec'] = adv_dec['Adv-Dec'].rolling(window=200,center=False).mean()\n",
    "\n",
    "adv_dec.set_index('Date',inplace=True)\n",
    "print adv_dec.head(), adv_dec.tail()\n",
    "\n",
    "adv_dec.plot()"
   ]
  },
  {
   "cell_type": "code",
   "execution_count": 273,
   "metadata": {
    "collapsed": false
   },
   "outputs": [],
   "source": [
    "#adv_dec['Adv-Dec'] = pd.qcut(adv_dec['Adv-Dec'],4,labels=False)\n",
    "#adv_dec.tail()"
   ]
  },
  {
   "cell_type": "code",
   "execution_count": 274,
   "metadata": {
    "collapsed": false
   },
   "outputs": [
    {
     "data": {
      "text/plain": [
       "(        Date        VIX\n",
       " 0 1990-01-02  17.240000\n",
       " 1 1990-01-03  18.190001\n",
       " 2 1990-01-04  19.219999\n",
       " 3 1990-01-05  20.110001\n",
       " 4 1990-01-08  20.260000,            Date    VIX\n",
       " 6772 2016-11-14  14.48\n",
       " 6773 2016-11-15  13.37\n",
       " 6774 2016-11-16  13.72\n",
       " 6775 2016-11-17  13.35\n",
       " 6776 2016-11-18  12.85)"
      ]
     },
     "execution_count": 274,
     "metadata": {},
     "output_type": "execute_result"
    }
   ],
   "source": [
    "vix = pd.read_sql_query(\"SELECT * \\\n",
    "                        FROM vix \", engine, parse_dates={'Date':'%Y-%m-%d'})\n",
    "vix = vix[['Date','Adjusted Close']]\n",
    "vix.columns = ['Date','VIX']\n",
    "vix.head(), vix.tail()"
   ]
  },
  {
   "cell_type": "code",
   "execution_count": 275,
   "metadata": {
    "collapsed": false
   },
   "outputs": [
    {
     "data": {
      "text/plain": [
       "<matplotlib.axes._subplots.AxesSubplot at 0x1d653a90>"
      ]
     },
     "execution_count": 275,
     "metadata": {},
     "output_type": "execute_result"
    },
    {
     "data": {
      "image/png": "[encoded data removed]",
      "text/plain": [
       "<matplotlib.figure.Figure at 0x1df9f550>"
      ]
     },
     "metadata": {},
     "output_type": "display_data"
    }
   ],
   "source": [
    "vix.set_index('Date',inplace=True)\n",
    "vix.plot()"
   ]
  },
  {
   "cell_type": "code",
   "execution_count": 276,
   "metadata": {
    "collapsed": false
   },
   "outputs": [],
   "source": [
    "#vix['VIX'] = pd.qcut(vix['VIX'],4,labels=False)\n",
    "#vix.tail()"
   ]
  },
  {
   "cell_type": "code",
   "execution_count": 288,
   "metadata": {
    "collapsed": false
   },
   "outputs": [
    {
     "name": "stdout",
     "output_type": "stream",
     "text": [
      "        Date  PE_Ratio\n",
      "0 1990-01-01     15.13\n",
      "1 1990-02-01     14.97\n",
      "2 1990-03-01     15.62\n",
      "3 1990-04-01     15.70\n",
      "4 1990-05-01     16.37           Date  PE_Ratio\n",
      "317 2016-06-01     23.97\n",
      "318 2016-07-01     24.72\n",
      "319 2016-08-01     24.98\n",
      "320 2016-09-01     24.82\n",
      "321 2016-10-01     24.53\n"
     ]
    },
    {
     "data": {
      "text/plain": [
       "<matplotlib.axes._subplots.AxesSubplot at 0x1ea4c208>"
      ]
     },
     "execution_count": 288,
     "metadata": {},
     "output_type": "execute_result"
    },
    {
     "data": {
      "image/png": "[encoded data removed]",
      "text/plain": [
       "<matplotlib.figure.Figure at 0x1c189198>"
      ]
     },
     "metadata": {},
     "output_type": "display_data"
    }
   ],
   "source": [
    "pe_ratio = pd.read_sql_query(\"SELECT Date, Value as PE_Ratio \\\n",
    "                             FROM pe_ratio_sp500 \\\n",
    "                             WHERE Date > '1990-01-01'\",engine, parse_dates={'Date':'%Y-%m-%d'})\n",
    "print pe_ratio.head(), pe_ratio.tail()\n",
    "pe_ratio.set_index('Date',inplace=True)\n",
    "pe_ratio.plot()"
   ]
  },
  {
   "cell_type": "code",
   "execution_count": 278,
   "metadata": {
    "collapsed": false
   },
   "outputs": [],
   "source": [
    "#pe_ratio['PE_Ratio'] = pd.qcut(pe_ratio['PE_Ratio'],4,labels=False)\n",
    "#pe_ratio.head()"
   ]
  },
  {
   "cell_type": "code",
   "execution_count": 279,
   "metadata": {
    "collapsed": false
   },
   "outputs": [
    {
     "data": {
      "text/plain": [
       "(        Date          SP  SP_200_MA  SP_Minus_MA\n",
       " 0 1990-01-02  359.690002        NaN          NaN\n",
       " 1 1990-01-03  358.760010        NaN          NaN\n",
       " 2 1990-01-04  355.670013        NaN          NaN\n",
       " 3 1990-01-05  352.200012        NaN          NaN\n",
       " 4 1990-01-08  353.790009        NaN          NaN,\n",
       "            Date           SP    SP_200_MA  SP_Minus_MA\n",
       " 6772 2016-11-14  2164.199951  2090.647195    73.552756\n",
       " 6773 2016-11-15  2180.389893  2092.033994    88.355899\n",
       " 6774 2016-11-16  2176.939941  2093.356044    83.583897\n",
       " 6775 2016-11-17  2187.120117  2094.714395    92.405722\n",
       " 6776 2016-11-18  2181.899902  2096.223644    85.676258)"
      ]
     },
     "execution_count": 279,
     "metadata": {},
     "output_type": "execute_result"
    }
   ],
   "source": [
    "sp = pd.read_sql_query(\"SELECT * \\\n",
    "                        FROM sp500 \\\n",
    "                        WHERE Date > '1990-01-02'\", engine, parse_dates={'Date':'%Y-%m-%d'})\n",
    "sp = sp[['Date','Adjusted Close']]\n",
    "sp.columns = ['Date','SP']\n",
    "sp['SP_200_MA'] = sp['SP']\n",
    "sp['SP_200_MA'] = sp['SP_200_MA'].rolling(window=200).mean()\n",
    "sp['SP_Minus_MA'] = sp['SP'] - sp['SP_200_MA']\n",
    "sp.head(), sp.tail()"
   ]
  },
  {
   "cell_type": "code",
   "execution_count": 280,
   "metadata": {
    "collapsed": false
   },
   "outputs": [
    {
     "data": {
      "text/plain": [
       "<matplotlib.axes._subplots.AxesSubplot at 0x1c404f60>"
      ]
     },
     "execution_count": 280,
     "metadata": {},
     "output_type": "execute_result"
    },
    {
     "data": {
      "image/png": "[encoded data removed]",
      "text/plain": [
       "<matplotlib.figure.Figure at 0x1c414550>"
      ]
     },
     "metadata": {},
     "output_type": "display_data"
    }
   ],
   "source": [
    "sp.set_index('Date',inplace=True)\n",
    "sp.plot()"
   ]
  },
  {
   "cell_type": "code",
   "execution_count": 281,
   "metadata": {
    "collapsed": false
   },
   "outputs": [
    {
     "data": {
      "text/html": [
       "<div>\n",
       "<table border=\"1\" class=\"dataframe\">\n",
       "  <thead>\n",
       "    <tr style=\"text-align: right;\">\n",
       "      <th></th>\n",
       "      <th>SP</th>\n",
       "      <th>SP_Minus_MA</th>\n",
       "    </tr>\n",
       "    <tr>\n",
       "      <th>Date</th>\n",
       "      <th></th>\n",
       "      <th></th>\n",
       "    </tr>\n",
       "  </thead>\n",
       "  <tbody>\n",
       "    <tr>\n",
       "      <th>2016-11-14</th>\n",
       "      <td>2164.199951</td>\n",
       "      <td>73.552756</td>\n",
       "    </tr>\n",
       "    <tr>\n",
       "      <th>2016-11-15</th>\n",
       "      <td>2180.389893</td>\n",
       "      <td>88.355899</td>\n",
       "    </tr>\n",
       "    <tr>\n",
       "      <th>2016-11-16</th>\n",
       "      <td>2176.939941</td>\n",
       "      <td>83.583897</td>\n",
       "    </tr>\n",
       "    <tr>\n",
       "      <th>2016-11-17</th>\n",
       "      <td>2187.120117</td>\n",
       "      <td>92.405722</td>\n",
       "    </tr>\n",
       "    <tr>\n",
       "      <th>2016-11-18</th>\n",
       "      <td>2181.899902</td>\n",
       "      <td>85.676258</td>\n",
       "    </tr>\n",
       "  </tbody>\n",
       "</table>\n",
       "</div>"
      ],
      "text/plain": [
       "                     SP  SP_Minus_MA\n",
       "Date                                \n",
       "2016-11-14  2164.199951    73.552756\n",
       "2016-11-15  2180.389893    88.355899\n",
       "2016-11-16  2176.939941    83.583897\n",
       "2016-11-17  2187.120117    92.405722\n",
       "2016-11-18  2181.899902    85.676258"
      ]
     },
     "execution_count": 281,
     "metadata": {},
     "output_type": "execute_result"
    }
   ],
   "source": [
    "#sp['SP_Minus_MA'] = pd.qcut(sp['SP_Minus_MA'], 4, labels=False)\n",
    "del sp['SP_200_MA']\n",
    "sp.tail()"
   ]
  },
  {
   "cell_type": "code",
   "execution_count": 286,
   "metadata": {
    "collapsed": false
   },
   "outputs": [
    {
     "data": {
      "text/html": [
       "<div>\n",
       "<table border=\"1\" class=\"dataframe\">\n",
       "  <thead>\n",
       "    <tr style=\"text-align: right;\">\n",
       "      <th></th>\n",
       "      <th>OtherMkts</th>\n",
       "      <th>OthMktsMinusMA</th>\n",
       "    </tr>\n",
       "    <tr>\n",
       "      <th>Date</th>\n",
       "      <th></th>\n",
       "      <th></th>\n",
       "    </tr>\n",
       "  </thead>\n",
       "  <tbody>\n",
       "    <tr>\n",
       "      <th>2016-11-11</th>\n",
       "      <td>1021.13</td>\n",
       "      <td>-2.09815</td>\n",
       "    </tr>\n",
       "    <tr>\n",
       "      <th>2016-11-14</th>\n",
       "      <td>1013.55</td>\n",
       "      <td>-10.08410</td>\n",
       "    </tr>\n",
       "    <tr>\n",
       "      <th>2016-11-15</th>\n",
       "      <td>1015.50</td>\n",
       "      <td>-8.61150</td>\n",
       "    </tr>\n",
       "    <tr>\n",
       "      <th>2016-11-16</th>\n",
       "      <td>1015.08</td>\n",
       "      <td>-9.52010</td>\n",
       "    </tr>\n",
       "    <tr>\n",
       "      <th>2016-11-17</th>\n",
       "      <td>1018.65</td>\n",
       "      <td>-6.51440</td>\n",
       "    </tr>\n",
       "  </tbody>\n",
       "</table>\n",
       "</div>"
      ],
      "text/plain": [
       "            OtherMkts  OthMktsMinusMA\n",
       "Date                                 \n",
       "2016-11-11    1021.13        -2.09815\n",
       "2016-11-14    1013.55       -10.08410\n",
       "2016-11-15    1015.50        -8.61150\n",
       "2016-11-16    1015.08        -9.52010\n",
       "2016-11-17    1018.65        -6.51440"
      ]
     },
     "execution_count": 286,
     "metadata": {},
     "output_type": "execute_result"
    },
    {
     "data": {
      "image/png": "[encoded data removed]",
      "text/plain": [
       "<matplotlib.figure.Figure at 0x1d93bc18>"
      ]
     },
     "metadata": {},
     "output_type": "display_data"
    }
   ],
   "source": [
    "foreign_mkts = pd.read_sql(\"SELECT Date, IndexValue as OtherMkts \\\n",
    "                           FROM global_ex_us \\\n",
    "                           WHERE Date < '2016-11-18' \\\n",
    "                           ORDER BY Date\",engine, parse_dates={'Date':'%Y-%m-%d'})\n",
    "\n",
    "foreign_mkts.set_index('Date',inplace=True)\n",
    "foreign_mkts['200_MA'] = foreign_mkts['OtherMkts']\n",
    "foreign_mkts['200_MA'] = foreign_mkts['200_MA'].rolling(window=200).mean()\n",
    "foreign_mkts['OthMktsMinusMA'] = foreign_mkts['OtherMkts'] - foreign_mkts['200_MA']\n",
    "del foreign_mkts['200_MA']\n",
    "foreign_mkts.plot()\n",
    "foreign_mkts.tail()"
   ]
  },
  {
   "cell_type": "code",
   "execution_count": 287,
   "metadata": {
    "collapsed": true
   },
   "outputs": [],
   "source": [
    "other_mkts = foreign_mkts['OthMktsMinusMA']"
   ]
  },
  {
   "cell_type": "code",
   "execution_count": 289,
   "metadata": {
    "collapsed": false
   },
   "outputs": [],
   "source": [
    "master_df = sentiment\n",
    "\n",
    "df_list = [yield_curve, nhnl, adv_dec, vix, pe_ratio, other_mkts, sp]\n",
    "\n",
    "for df in df_list:\n",
    "     master_df = master_df.join(df, how='outer')"
   ]
  },
  {
   "cell_type": "code",
   "execution_count": 290,
   "metadata": {
    "collapsed": false
   },
   "outputs": [
    {
     "data": {
      "text/plain": [
       "(            BullBearSpread  OneTenDiff  Hi-Lo  Adv-Dec        VIX  PE_Ratio  \\\n",
       " Date                                                                          \n",
       " 1990-01-01             NaN         NaN    NaN      NaN        NaN     15.13   \n",
       " 1990-01-02             NaN      0.1194    NaN      NaN  17.240000       NaN   \n",
       " 1990-01-03             NaN      0.1207    NaN      NaN  18.190001       NaN   \n",
       " 1990-01-04             NaN      0.1344    NaN      NaN  19.219999       NaN   \n",
       " 1990-01-05             0.1      0.1627    NaN      NaN  20.110001       NaN   \n",
       " \n",
       "             OthMktsMinusMA          SP  SP_Minus_MA  \n",
       " Date                                                 \n",
       " 1990-01-01             NaN         NaN          NaN  \n",
       " 1990-01-02             NaN  359.690002          NaN  \n",
       " 1990-01-03             NaN  358.760010          NaN  \n",
       " 1990-01-04             NaN  355.670013          NaN  \n",
       " 1990-01-05             NaN  352.200012          NaN  ,\n",
       "             BullBearSpread  OneTenDiff   Hi-Lo  Adv-Dec    VIX  PE_Ratio  \\\n",
       " Date                                                                       \n",
       " 2016-11-14             NaN      1.4853  89.620  219.760  14.48       NaN   \n",
       " 2016-11-15             NaN         NaN  90.865  222.310  13.37       NaN   \n",
       " 2016-11-16             NaN         NaN  91.390  218.775  13.72       NaN   \n",
       " 2016-11-17             NaN         NaN     NaN  227.680  13.35       NaN   \n",
       " 2016-11-18             NaN         NaN     NaN  236.235  12.85       NaN   \n",
       " \n",
       "             OthMktsMinusMA           SP  SP_Minus_MA  \n",
       " Date                                                  \n",
       " 2016-11-14        -10.0841  2164.199951    73.552756  \n",
       " 2016-11-15         -8.6115  2180.389893    88.355899  \n",
       " 2016-11-16         -9.5201  2176.939941    83.583897  \n",
       " 2016-11-17         -6.5144  2187.120117    92.405722  \n",
       " 2016-11-18             NaN  2181.899902    85.676258  )"
      ]
     },
     "execution_count": 290,
     "metadata": {},
     "output_type": "execute_result"
    }
   ],
   "source": [
    "master_df.head(), master_df.tail()"
   ]
  },
  {
   "cell_type": "code",
   "execution_count": 291,
   "metadata": {
    "collapsed": false
   },
   "outputs": [
    {
     "data": {
      "text/plain": [
       "(            BullBearSpread  OneTenDiff  Hi-Lo  Adv-Dec        VIX  PE_Ratio  \\\n",
       " Date                                                                          \n",
       " 1990-01-01             NaN         NaN    NaN      NaN        NaN     15.13   \n",
       " 1990-01-02             NaN      0.1194    NaN      NaN  17.240000     15.13   \n",
       " 1990-01-03             NaN      0.1207    NaN      NaN  18.190001     15.13   \n",
       " 1990-01-04             NaN      0.1344    NaN      NaN  19.219999     15.13   \n",
       " 1990-01-05             0.1      0.1627    NaN      NaN  20.110001     15.13   \n",
       " \n",
       "             OthMktsMinusMA          SP  SP_Minus_MA  \n",
       " Date                                                 \n",
       " 1990-01-01             NaN         NaN          NaN  \n",
       " 1990-01-02             NaN  359.690002          NaN  \n",
       " 1990-01-03             NaN  358.760010          NaN  \n",
       " 1990-01-04             NaN  355.670013          NaN  \n",
       " 1990-01-05             NaN  352.200012          NaN  ,\n",
       "             BullBearSpread  OneTenDiff   Hi-Lo  Adv-Dec    VIX  PE_Ratio  \\\n",
       " Date                                                                       \n",
       " 2016-11-14        0.095556      1.4853  89.620  219.760  14.48     24.53   \n",
       " 2016-11-15        0.095556      1.4853  90.865  222.310  13.37     24.53   \n",
       " 2016-11-16        0.095556      1.4853  91.390  218.775  13.72     24.53   \n",
       " 2016-11-17        0.095556      1.4853  91.390  227.680  13.35     24.53   \n",
       " 2016-11-18        0.095556      1.4853  91.390  236.235  12.85     24.53   \n",
       " \n",
       "             OthMktsMinusMA           SP  SP_Minus_MA  \n",
       " Date                                                  \n",
       " 2016-11-14        -10.0841  2164.199951    73.552756  \n",
       " 2016-11-15         -8.6115  2180.389893    88.355899  \n",
       " 2016-11-16         -9.5201  2176.939941    83.583897  \n",
       " 2016-11-17         -6.5144  2187.120117    92.405722  \n",
       " 2016-11-18         -6.5144  2181.899902    85.676258  )"
      ]
     },
     "execution_count": 291,
     "metadata": {},
     "output_type": "execute_result"
    }
   ],
   "source": [
    "master_df = master_df.fillna(method='ffill')\n",
    "master_df.head(),master_df.tail()"
   ]
  },
  {
   "cell_type": "code",
   "execution_count": null,
   "metadata": {
    "collapsed": false
   },
   "outputs": [],
   "source": [
    "#master_df.to_csv('market_direction.csv')"
   ]
  },
  {
   "cell_type": "code",
   "execution_count": 295,
   "metadata": {
    "collapsed": false
   },
   "outputs": [
    {
     "data": {
      "text/html": [
       "<div>\n",
       "<table border=\"1\" class=\"dataframe\">\n",
       "  <thead>\n",
       "    <tr style=\"text-align: right;\">\n",
       "      <th></th>\n",
       "      <th>BullBearSpread</th>\n",
       "      <th>OneTenDiff</th>\n",
       "      <th>Hi-Lo</th>\n",
       "      <th>Adv-Dec</th>\n",
       "      <th>VIX</th>\n",
       "      <th>PE_Ratio</th>\n",
       "      <th>OthMktsMinusMA</th>\n",
       "      <th>SP</th>\n",
       "      <th>SP_Minus_MA</th>\n",
       "    </tr>\n",
       "    <tr>\n",
       "      <th>Date</th>\n",
       "      <th></th>\n",
       "      <th></th>\n",
       "      <th></th>\n",
       "      <th></th>\n",
       "      <th></th>\n",
       "      <th></th>\n",
       "      <th></th>\n",
       "      <th></th>\n",
       "      <th></th>\n",
       "    </tr>\n",
       "  </thead>\n",
       "  <tbody>\n",
       "    <tr>\n",
       "      <th>2006-08-02</th>\n",
       "      <td>0</td>\n",
       "      <td>0</td>\n",
       "      <td>0</td>\n",
       "      <td>0</td>\n",
       "      <td>0</td>\n",
       "      <td>0</td>\n",
       "      <td>1</td>\n",
       "      <td>1277.410034</td>\n",
       "      <td>0</td>\n",
       "    </tr>\n",
       "    <tr>\n",
       "      <th>2006-08-03</th>\n",
       "      <td>0</td>\n",
       "      <td>0</td>\n",
       "      <td>0</td>\n",
       "      <td>1</td>\n",
       "      <td>0</td>\n",
       "      <td>0</td>\n",
       "      <td>1</td>\n",
       "      <td>1280.270020</td>\n",
       "      <td>0</td>\n",
       "    </tr>\n",
       "    <tr>\n",
       "      <th>2006-08-04</th>\n",
       "      <td>0</td>\n",
       "      <td>0</td>\n",
       "      <td>0</td>\n",
       "      <td>1</td>\n",
       "      <td>0</td>\n",
       "      <td>0</td>\n",
       "      <td>1</td>\n",
       "      <td>1279.359985</td>\n",
       "      <td>0</td>\n",
       "    </tr>\n",
       "    <tr>\n",
       "      <th>2006-08-07</th>\n",
       "      <td>0</td>\n",
       "      <td>0</td>\n",
       "      <td>0</td>\n",
       "      <td>0</td>\n",
       "      <td>1</td>\n",
       "      <td>0</td>\n",
       "      <td>1</td>\n",
       "      <td>1275.770020</td>\n",
       "      <td>0</td>\n",
       "    </tr>\n",
       "    <tr>\n",
       "      <th>2006-08-08</th>\n",
       "      <td>0</td>\n",
       "      <td>0</td>\n",
       "      <td>0</td>\n",
       "      <td>0</td>\n",
       "      <td>1</td>\n",
       "      <td>0</td>\n",
       "      <td>1</td>\n",
       "      <td>1271.479980</td>\n",
       "      <td>0</td>\n",
       "    </tr>\n",
       "  </tbody>\n",
       "</table>\n",
       "</div>"
      ],
      "text/plain": [
       "            BullBearSpread  OneTenDiff  Hi-Lo  Adv-Dec  VIX  PE_Ratio  \\\n",
       "Date                                                                    \n",
       "2006-08-02               0           0      0        0    0         0   \n",
       "2006-08-03               0           0      0        1    0         0   \n",
       "2006-08-04               0           0      0        1    0         0   \n",
       "2006-08-07               0           0      0        0    1         0   \n",
       "2006-08-08               0           0      0        0    1         0   \n",
       "\n",
       "            OthMktsMinusMA           SP  SP_Minus_MA  \n",
       "Date                                                  \n",
       "2006-08-02               1  1277.410034            0  \n",
       "2006-08-03               1  1280.270020            0  \n",
       "2006-08-04               1  1279.359985            0  \n",
       "2006-08-07               1  1275.770020            0  \n",
       "2006-08-08               1  1271.479980            0  "
      ]
     },
     "execution_count": 295,
     "metadata": {},
     "output_type": "execute_result"
    }
   ],
   "source": [
    "master_df.dropna(inplace=True)\n",
    "master_df['BullBearSpread'] = pd.qcut(master_df['BullBearSpread'],3,labels=False)\n",
    "master_df['OneTenDiff'] = pd.qcut(master_df['OneTenDiff'],3,labels=False)\n",
    "master_df['Hi-Lo'] = pd.qcut(master_df['Hi-Lo'],2,labels=False)\n",
    "master_df['Adv-Dec'] = pd.qcut(master_df['Adv-Dec'],2,labels=False)\n",
    "master_df['VIX'] = pd.qcut(master_df['VIX'],3,labels=False)\n",
    "master_df['PE_Ratio'] = pd.qcut(master_df['PE_Ratio'],3,labels=False)\n",
    "master_df['OthMktsMinusMA'] = pd.qcut(master_df['OthMktsMinusMA'],2,labels=False)\n",
    "master_df['SP_Minus_MA'] = pd.qcut(master_df['SP_Minus_MA'],2,labels=False)\n",
    "master_df.head()"
   ]
  },
  {
   "cell_type": "code",
   "execution_count": 296,
   "metadata": {
    "collapsed": true
   },
   "outputs": [],
   "source": [
    "#master_df.to_csv('market_direction_int.csv')"
   ]
  },
  {
   "cell_type": "code",
   "execution_count": null,
   "metadata": {
    "collapsed": true
   },
   "outputs": [],
   "source": []
  },
  {
   "cell_type": "code",
   "execution_count": null,
   "metadata": {
    "collapsed": true
   },
   "outputs": [],
   "source": []
  },
  {
   "cell_type": "code",
   "execution_count": null,
   "metadata": {
    "collapsed": true
   },
   "outputs": [],
   "source": []
  },
  {
   "cell_type": "code",
   "execution_count": null,
   "metadata": {
    "collapsed": true
   },
   "outputs": [],
   "source": []
  },
  {
   "cell_type": "code",
   "execution_count": null,
   "metadata": {
    "collapsed": true
   },
   "outputs": [],
   "source": []
  }
 ],
 "metadata": {
  "anaconda-cloud": {},
  "kernelspec": {
   "display_name": "Python [py27]",
   "language": "python",
   "name": "Python [py27]"
  },
  "language_info": {
   "codemirror_mode": {
    "name": "ipython",
    "version": 2
   },
   "file_extension": ".py",
   "mimetype": "text/x-python",
   "name": "python",
   "nbconvert_exporter": "python",
   "pygments_lexer": "ipython2",
   "version": "2.7.12"
  }
 },
 "nbformat": 4,
 "nbformat_minor": 0
}
