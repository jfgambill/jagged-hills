{
 "cells": [
  {
   "cell_type": "markdown",
   "metadata": {},
   "source": [
    "## Build a database of stock data\n",
    "\n",
    "This jupyter notebook will build a sqlite database from scratch using free data from Quandl. The db will contain tables for investor sentiment, company fundamentals (limited), various yield curves, new highs, new lows and adj ohlc and volume data for around 6000 US stocks.\n",
    "\n",
    "Before you begin you will need to obtain a free api from Quandl: https://blog.quandl.com/getting-started-with-the-quandl-api\n",
    "\n",
    "You will need the pandas and sqlalchemy libraries."
   ]
  },
  {
   "cell_type": "code",
   "execution_count": 1,
   "metadata": {
    "collapsed": false
   },
   "outputs": [],
   "source": [
    "import pandas as pd\n",
    "import quandl as q\n",
    "from sqlalchemy import create_engine\n",
    "\n",
    "# You must obtain your own free api key from Quandl\n",
    "q.ApiConfig.api_key = '<your_api_key>'\n",
    "\n",
    "# Create a sqlite db named 'jagged'\n",
    "engine = create_engine('sqlite:///jagged.sqlite')"
   ]
  },
  {
   "cell_type": "code",
   "execution_count": 29,
   "metadata": {
    "collapsed": false
   },
   "outputs": [],
   "source": [
    "# Get the AAII sentiment index\n",
    "sentiment = q.get(\"AAII/AAII_SENTIMENT\")\n",
    "sentiment.to_sql('sentiment',engine)\n",
    "\n",
    "# get the free set of fundamental data from Zacks\n",
    "fund = q.get_table(\"ZACKS/FE\")\n",
    "fund.to_sql('LimFundamentals',engine)"
   ]
  },
  {
   "cell_type": "code",
   "execution_count": 14,
   "metadata": {
    "collapsed": false,
    "scrolled": true
   },
   "outputs": [],
   "source": [
    "# Get Par Yield Curve, Instantaneous rate curve, One year forward rate curve and TIPS rate curve\n",
    "par_yield_curve = q.get(\"FED/SVENPY\")\n",
    "inst_rt_curve = q.get(\"FED/SVENF\")\n",
    "one_yr_rt_curve = q.get(\"FED/SVEN1F\")\n",
    "tips_rt_curve = q.get(\"FED/TIPSY\")"
   ]
  },
  {
   "cell_type": "code",
   "execution_count": 17,
   "metadata": {
    "collapsed": false
   },
   "outputs": [],
   "source": [
    "# Write to db\n",
    "par_yield_curve.to_sql('YieldCurve',engine)\n",
    "inst_rt_curve.to_sql('InstCurve',engine)\n",
    "one_yr_rt_curve.to_sql('OneYearCurve',engine)\n",
    "tips_rt_curve.to_sql('TIPSCurve',engine)"
   ]
  },
  {
   "cell_type": "code",
   "execution_count": 19,
   "metadata": {
    "collapsed": true
   },
   "outputs": [],
   "source": [
    "# Get New Highs, New Lows, Advancing volume, Declining volume from AMEX, NYSE, NASDAQ\n",
    "\n",
    "amex_nh = q.get(\"URC/AMEX_52W_HI\")\n",
    "amex_nl = q.get(\"URC/AMEX_52W_LO\")\n",
    "ny_adv = q.get(\"URC/NYSE_ADV_VOL\")\n",
    "ny_dec = q.get(\"URC/NYSE_DEC_VOL\")\n",
    "nas_adv = q.get(\"URC/NASDAQ_ADV_VOL\")\n",
    "nas_dec = q.get(\"URC/NASDAQ_DEC_VOL\")\n",
    "am_adv = q.get(\"URC/AMEX_ADV_VOL\")\n",
    "am_dec = q.get(\"URC/AMEX_DEC_VOL\")\n",
    "ny_nh = q.get(\"URC/NYSE_52W_HI\")\n",
    "ny_nl = q.get(\"URC/NYSE_52W_LO\")\n",
    "nas_nh = q.get(\"URC/NASDAQ_52W_HI\")\n",
    "nas_nl = q.get(\"URC/NASDAQ_52W_LO\")"
   ]
  },
  {
   "cell_type": "code",
   "execution_count": 23,
   "metadata": {
    "collapsed": false
   },
   "outputs": [],
   "source": [
    "# Write to db\n",
    "amex_nh.to_sql('amex_nh',engine)\n",
    "amex_nl.to_sql('amex_nl',engine)\n",
    "ny_adv.to_sql('ny_adv',engine)\n",
    "ny_dec.to_sql('ny_dec',engine)\n",
    "nas_adv.to_sql('nas_adv',engine)\n",
    "nas_dec.to_sql('nas_dec',engine)\n",
    "am_adv.to_sql('am_adv',engine)\n",
    "am_dec.to_sql('am_dec',engine)\n",
    "ny_nh.to_sql('ny_nh',engine)\n",
    "ny_nl.to_sql('nh_nl',engine)\n",
    "nas_nh.to_sql('nas_nh',engine)\n",
    "nas_nl.to_sql('nas_nl',engine)"
   ]
  },
  {
   "cell_type": "code",
   "execution_count": 2,
   "metadata": {
    "collapsed": false
   },
   "outputs": [
    {
     "name": "stdout",
     "output_type": "stream",
     "text": [
      "14458978\n"
     ]
    },
    {
     "data": {
      "text/html": [
       "<div>\n",
       "<table border=\"1\" class=\"dataframe\">\n",
       "  <thead>\n",
       "    <tr style=\"text-align: right;\">\n",
       "      <th></th>\n",
       "      <th>ticker</th>\n",
       "      <th>date</th>\n",
       "      <th>open</th>\n",
       "      <th>high</th>\n",
       "      <th>low</th>\n",
       "      <th>close</th>\n",
       "      <th>volume</th>\n",
       "      <th>ex-dividend</th>\n",
       "      <th>split_ratio</th>\n",
       "      <th>adj_open</th>\n",
       "      <th>adj_high</th>\n",
       "      <th>adj_low</th>\n",
       "      <th>adj_close</th>\n",
       "      <th>adj_volume</th>\n",
       "    </tr>\n",
       "  </thead>\n",
       "  <tbody>\n",
       "    <tr>\n",
       "      <th>0</th>\n",
       "      <td>A</td>\n",
       "      <td>1999-11-18</td>\n",
       "      <td>45.50</td>\n",
       "      <td>50.00</td>\n",
       "      <td>40.00</td>\n",
       "      <td>44.00</td>\n",
       "      <td>44739900.0</td>\n",
       "      <td>0.0</td>\n",
       "      <td>1.0</td>\n",
       "      <td>43.365904</td>\n",
       "      <td>47.654840</td>\n",
       "      <td>38.123872</td>\n",
       "      <td>41.936259</td>\n",
       "      <td>44739900.0</td>\n",
       "    </tr>\n",
       "    <tr>\n",
       "      <th>1</th>\n",
       "      <td>A</td>\n",
       "      <td>1999-11-19</td>\n",
       "      <td>42.94</td>\n",
       "      <td>43.00</td>\n",
       "      <td>39.81</td>\n",
       "      <td>40.38</td>\n",
       "      <td>10897100.0</td>\n",
       "      <td>0.0</td>\n",
       "      <td>1.0</td>\n",
       "      <td>40.925976</td>\n",
       "      <td>40.983162</td>\n",
       "      <td>37.942784</td>\n",
       "      <td>38.486049</td>\n",
       "      <td>10897100.0</td>\n",
       "    </tr>\n",
       "    <tr>\n",
       "      <th>2</th>\n",
       "      <td>A</td>\n",
       "      <td>1999-11-22</td>\n",
       "      <td>41.31</td>\n",
       "      <td>44.00</td>\n",
       "      <td>40.06</td>\n",
       "      <td>44.00</td>\n",
       "      <td>4705200.0</td>\n",
       "      <td>0.0</td>\n",
       "      <td>1.0</td>\n",
       "      <td>39.372429</td>\n",
       "      <td>41.936259</td>\n",
       "      <td>38.181058</td>\n",
       "      <td>41.936259</td>\n",
       "      <td>4705200.0</td>\n",
       "    </tr>\n",
       "    <tr>\n",
       "      <th>3</th>\n",
       "      <td>A</td>\n",
       "      <td>1999-11-23</td>\n",
       "      <td>42.50</td>\n",
       "      <td>43.63</td>\n",
       "      <td>40.25</td>\n",
       "      <td>40.25</td>\n",
       "      <td>4274400.0</td>\n",
       "      <td>0.0</td>\n",
       "      <td>1.0</td>\n",
       "      <td>40.506614</td>\n",
       "      <td>41.583613</td>\n",
       "      <td>38.362146</td>\n",
       "      <td>38.362146</td>\n",
       "      <td>4274400.0</td>\n",
       "    </tr>\n",
       "    <tr>\n",
       "      <th>4</th>\n",
       "      <td>A</td>\n",
       "      <td>1999-11-24</td>\n",
       "      <td>40.13</td>\n",
       "      <td>41.94</td>\n",
       "      <td>40.00</td>\n",
       "      <td>41.06</td>\n",
       "      <td>3464400.0</td>\n",
       "      <td>0.0</td>\n",
       "      <td>1.0</td>\n",
       "      <td>38.247774</td>\n",
       "      <td>39.972880</td>\n",
       "      <td>38.123872</td>\n",
       "      <td>39.134155</td>\n",
       "      <td>3464400.0</td>\n",
       "    </tr>\n",
       "  </tbody>\n",
       "</table>\n",
       "</div>"
      ],
      "text/plain": [
       "  ticker        date   open   high    low  close      volume  ex-dividend  \\\n",
       "0      A  1999-11-18  45.50  50.00  40.00  44.00  44739900.0          0.0   \n",
       "1      A  1999-11-19  42.94  43.00  39.81  40.38  10897100.0          0.0   \n",
       "2      A  1999-11-22  41.31  44.00  40.06  44.00   4705200.0          0.0   \n",
       "3      A  1999-11-23  42.50  43.63  40.25  40.25   4274400.0          0.0   \n",
       "4      A  1999-11-24  40.13  41.94  40.00  41.06   3464400.0          0.0   \n",
       "\n",
       "   split_ratio   adj_open   adj_high    adj_low  adj_close  adj_volume  \n",
       "0          1.0  43.365904  47.654840  38.123872  41.936259  44739900.0  \n",
       "1          1.0  40.925976  40.983162  37.942784  38.486049  10897100.0  \n",
       "2          1.0  39.372429  41.936259  38.181058  41.936259   4705200.0  \n",
       "3          1.0  40.506614  41.583613  38.362146  38.362146   4274400.0  \n",
       "4          1.0  38.247774  39.972880  38.123872  39.134155   3464400.0  "
      ]
     },
     "execution_count": 2,
     "metadata": {},
     "output_type": "execute_result"
    }
   ],
   "source": [
    "# Obtained end of day stock prices as a csv from:\n",
    "# \"https://www.quandl.com/api/v3/datatables/WIKI/PRICES?qopts.export=true&api_key=<your_api_key>\"\n",
    "# Save the file to your local machine and enter the raw file path below\n",
    "\n",
    "# Enter your file path here \n",
    "file = r'C:\\Users\\JoGa\\Desktop\\quandl\\WIKI_PRICES.csv'\n",
    "df = pd.read_csv(file)\n",
    "print(len(df))\n",
    "df.head()"
   ]
  },
  {
   "cell_type": "code",
   "execution_count": 3,
   "metadata": {
    "collapsed": false
   },
   "outputs": [],
   "source": [
    "# The dataframe is 14 million rows. You may want to increase or lower the chunksize \n",
    "# depending on the capabilities of your machine. Chunksize of 100,000 required about an\n",
    "# additional 6GB of RAM. Will prob take a few min to complete.\n",
    "\n",
    "df.to_sql('ohlc',engine,chunksize=100000)"
   ]
  },
  {
   "cell_type": "code",
   "execution_count": null,
   "metadata": {
    "collapsed": true
   },
   "outputs": [],
   "source": []
  },
  {
   "cell_type": "code",
   "execution_count": null,
   "metadata": {
    "collapsed": true
   },
   "outputs": [],
   "source": []
  }
 ],
 "metadata": {
  "kernelspec": {
   "display_name": "Python [Root]",
   "language": "python",
   "name": "Python [Root]"
  },
  "language_info": {
   "codemirror_mode": {
    "name": "ipython",
    "version": 3
   },
   "file_extension": ".py",
   "mimetype": "text/x-python",
   "name": "python",
   "nbconvert_exporter": "python",
   "pygments_lexer": "ipython3",
   "version": "3.5.2"
  }
 },
 "nbformat": 4,
 "nbformat_minor": 0
}
